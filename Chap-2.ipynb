{
 "metadata": {
  "language_info": {
   "codemirror_mode": {
    "name": "ipython",
    "version": 3
   },
   "file_extension": ".py",
   "mimetype": "text/x-python",
   "name": "python",
   "nbconvert_exporter": "python",
   "pygments_lexer": "ipython3",
   "version": "3.8.8"
  },
  "orig_nbformat": 2,
  "kernelspec": {
   "name": "bash",
   "display_name": "Bash",
   "language": "bash"
  }
 },
 "nbformat": 4,
 "nbformat_minor": 2,
 "cells": [
  {
   "cell_type": "code",
   "execution_count": 4,
   "metadata": {},
   "outputs": [
    {
     "output_type": "stream",
     "name": "stdout",
     "text": [
      "[0, 1, 2, 3, 4, 5, 6, 7, 8, 9]\n"
     ]
    }
   ],
   "source": [
    "my_list  = list(range(10))\n",
    "print(my_list)"
   ]
  },
  {
   "cell_type": "code",
   "execution_count": 6,
   "metadata": {},
   "outputs": [
    {
     "output_type": "stream",
     "name": "stdout",
     "text": [
      "0 1 2 3 4 5 6 7 8 9\n0 + 1 + 2 + 3 + 4 + 5 + 6 + 7 + 8 + 9 = 45"
     ]
    }
   ],
   "source": [
    "print(*my_list)  # print only numbers\n",
    "# customize the separator and the end of the string to print\n",
    "print(*my_list, sep = \" + \", end = \" = %d\" %sum(my_list))"
   ]
  },
  {
   "cell_type": "code",
   "execution_count": 7,
   "metadata": {},
   "outputs": [
    {
     "output_type": "stream",
     "name": "stdout",
     "text": [
      "0 1 9\n"
     ]
    }
   ],
   "source": [
    "# more advaced variable unpacking\n",
    "first, second, *rest, last = my_list\n",
    "print(first, second, last)\n",
    "rest"
   ]
  },
  {
   "source": [
    "git init: Initialized empty git repository in the directory. Git create a .git subdirectory that contains all the paramters and the history of the repository\n",
    "\n",
    "# Defensive programming\n",
    "use assert keyword Avoid classes use functions instead. A class is used to store persistent state between function calls"
   ],
   "cell_type": "markdown",
   "metadata": {}
  },
  {
   "source": [
    "__Simple function that returns the first element of a list__\n"
   ],
   "cell_type": "markdown",
   "metadata": {}
  },
  {
   "cell_type": "code",
   "execution_count": null,
   "metadata": {},
   "outputs": [],
   "source": [
    "%%writefile first.py\n"
   ]
  }
 ]
}