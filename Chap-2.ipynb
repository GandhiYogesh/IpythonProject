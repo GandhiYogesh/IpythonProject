{
 "metadata": {
  "language_info": {
   "codemirror_mode": {
    "name": "ipython",
    "version": 3
   },
   "file_extension": ".py",
   "mimetype": "text/x-python",
   "name": "python",
   "nbconvert_exporter": "python",
   "pygments_lexer": "ipython3",
   "version": "3.8.8"
  },
  "orig_nbformat": 2,
  "kernelspec": {
   "name": "python388jvsc74a57bd02173c482b91c00644f6db536953a9178eb90d46a7d051145ea8c5dae6e54336e",
   "display_name": "Python 3.8.8 64-bit ('IpYthon': conda)"
  }
 },
 "nbformat": 4,
 "nbformat_minor": 2,
 "cells": [
  {
   "cell_type": "code",
   "execution_count": 4,
   "metadata": {},
   "outputs": [
    {
     "output_type": "stream",
     "name": "stdout",
     "text": [
      "[0, 1, 2, 3, 4, 5, 6, 7, 8, 9]\n"
     ]
    }
   ],
   "source": [
    "my_list  = list(range(10))\n",
    "print(my_list)"
   ]
  },
  {
   "cell_type": "code",
   "execution_count": 6,
   "metadata": {},
   "outputs": [
    {
     "output_type": "stream",
     "name": "stdout",
     "text": [
      "0 1 2 3 4 5 6 7 8 9\n0 + 1 + 2 + 3 + 4 + 5 + 6 + 7 + 8 + 9 = 45"
     ]
    }
   ],
   "source": [
    "print(*my_list)  # print only numbers\n",
    "# customize the separator and the end of the string to print\n",
    "print(*my_list, sep = \" + \", end = \" = %d\" %sum(my_list))"
   ]
  },
  {
   "cell_type": "code",
   "execution_count": 7,
   "metadata": {},
   "outputs": [
    {
     "output_type": "stream",
     "name": "stdout",
     "text": [
      "0 1 9\n"
     ]
    }
   ],
   "source": [
    "# more advaced variable unpacking\n",
    "first, second, *rest, last = my_list\n",
    "print(first, second, last)\n",
    "rest"
   ]
  },
  {
   "source": [
    "git init: Initialized empty git repository in the directory. Git create a .git subdirectory that contains all the paramters and the history of the repository\n",
    "\n",
    "# Defensive programming\n",
    "use assert keyword Avoid classes use functions instead. A class is used to store persistent state between function calls"
   ],
   "cell_type": "markdown",
   "metadata": {}
  },
  {
   "source": [
    "__Simple function that returns the first element of a list__\n"
   ],
   "cell_type": "markdown",
   "metadata": {}
  },
  {
   "cell_type": "code",
   "execution_count": 7,
   "metadata": {},
   "outputs": [
    {
     "output_type": "stream",
     "name": "stdout",
     "text": [
      "Overwriting first.py\n"
     ]
    }
   ],
   "source": [
    "%%writefile first.py\n",
    "def first(l):\n",
    "    return l[0]\n",
    "\n"
   ]
  },
  {
   "cell_type": "code",
   "execution_count": 9,
   "metadata": {},
   "outputs": [
    {
     "output_type": "stream",
     "name": "stdout",
     "text": [
      "Appending to first.py\n"
     ]
    }
   ],
   "source": [
    "%%writefile -a first.py\n",
    "\n",
    "#This is appended to the file\n",
    "def test_first():\n",
    "    assert first([1, 2, 3]) == 1\n",
    "    "
   ]
  },
  {
   "cell_type": "code",
   "execution_count": 10,
   "metadata": {},
   "outputs": [
    {
     "output_type": "stream",
     "name": "stdout",
     "text": [
      "def first(l):\n",
      "    return l[0]\n",
      "\n",
      "\n",
      "#This is appended to the file\n",
      "def test_first():\n",
      "    assert first([1, 2, 3]) == 1\n",
      "    \n",
      "\n",
      "#This is appended to the file\n",
      "def test_first():\n",
      "    assert first([1, 2, 3]) == 1\n",
      "    \n",
      "\u001b[1m============================= test session starts ==============================\u001b[0m\n",
      "platform linux -- Python 3.8.8, pytest-6.2.3, py-1.10.0, pluggy-0.13.1\n",
      "rootdir: /home/yoshi/UNIBO_PhD_2020-23/ProjectsToLearn/IPython\n",
      "plugins: anyio-2.2.0\n",
      "collected 1 item                                                               \u001b[0m\n",
      "\n",
      "first.py \u001b[32m.\u001b[0m\u001b[32m                                                               [100%]\u001b[0m\n",
      "\n",
      "\u001b[32m============================== \u001b[32m\u001b[1m1 passed\u001b[0m\u001b[32m in 0.04s\u001b[0m\u001b[32m ===============================\u001b[0m\n"
     ]
    }
   ],
   "source": [
    "%cat first.py\n",
    "# ! means that we're calling an external program from IPython\n",
    "!pytest first.py"
   ]
  },
  {
   "cell_type": "code",
   "execution_count": 13,
   "metadata": {},
   "outputs": [
    {
     "output_type": "stream",
     "name": "stdout",
     "text": [
      "Overwriting first.py\n"
     ]
    }
   ],
   "source": [
    "%%writefile first.py\n",
    "def first(l):\n",
    "    return l[0] if l else None\n",
    "\n",
    "def test_first():\n",
    "    assert first([1,2,3]) == 1\n",
    "    assert first([]) is None\n"
   ]
  },
  {
   "cell_type": "code",
   "execution_count": 14,
   "metadata": {},
   "outputs": [
    {
     "output_type": "stream",
     "name": "stdout",
     "text": [
      "\u001b[1m============================= test session starts ==============================\u001b[0m\nplatform linux -- Python 3.8.8, pytest-6.2.3, py-1.10.0, pluggy-0.13.1\nrootdir: /home/yoshi/UNIBO_PhD_2020-23/ProjectsToLearn/IPython\nplugins: anyio-2.2.0\ncollected 1 item                                                               \u001b[0m\n\nfirst.py \u001b[32m.\u001b[0m\u001b[32m                                                               [100%]\u001b[0m\n\n\u001b[32m============================== \u001b[32m\u001b[1m1 passed\u001b[0m\u001b[32m in 0.03s\u001b[0m\u001b[32m ===============================\u001b[0m\n"
     ]
    }
   ],
   "source": [
    "!pytest first.py"
   ]
  }
 ]
}